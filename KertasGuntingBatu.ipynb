{
  "nbformat": 4,
  "nbformat_minor": 0,
  "metadata": {
    "colab": {
      "name": "KertasGuntingBatu.ipynb",
      "provenance": [],
      "authorship_tag": "ABX9TyO476+afWwjllVwcEGEhUsv",
      "include_colab_link": true
    },
    "kernelspec": {
      "name": "python3",
      "display_name": "Python 3"
    },
    "language_info": {
      "name": "python"
    }
  },
  "cells": [
    {
      "cell_type": "markdown",
      "metadata": {
        "id": "view-in-github",
        "colab_type": "text"
      },
      "source": [
        "<a href=\"https://colab.research.google.com/github/riyanbagusb/KertasGuntingBatu/blob/main/KertasGuntingBatu.ipynb\" target=\"_parent\"><img src=\"https://colab.research.google.com/assets/colab-badge.svg\" alt=\"Open In Colab\"/></a>"
      ]
    },
    {
      "cell_type": "markdown",
      "metadata": {
        "id": "fFpgFQqwjG4K"
      },
      "source": [
        "# **Proyek Akhir : Klasifikasi Gambar**"
      ]
    },
    {
      "cell_type": "markdown",
      "metadata": {
        "id": "4Srkmpyqi382"
      },
      "source": [
        "Nama: Bagus Budhi Riyanto\n",
        "\n",
        "[Email](mailto:riyanbagusb@gmail.com) | [Dicoding](https://www.dicoding.com/users/riyanbagusb)"
      ]
    },
    {
      "cell_type": "markdown",
      "metadata": {
        "id": "xM528iUukjfZ"
      },
      "source": [
        "## **Dataset**"
      ]
    },
    {
      "cell_type": "markdown",
      "metadata": {
        "id": "1g4F2tt9mbMs"
      },
      "source": [
        "### **Download dataset**\n",
        "\n",
        "Unduh [rockpaperscissors.zip](https://dicodingacademy.blob.core.windows.net/picodiploma/ml_pemula_academy/rockpaperscissors.zip) ke dalam folder \"download\"."
      ]
    },
    {
      "cell_type": "code",
      "metadata": {
        "id": "TmFm-m3ukg5H",
        "colab": {
          "base_uri": "https://localhost:8080/"
        },
        "outputId": "63b57452-a140-4767-a975-0b23a4f82908"
      },
      "source": [
        "!mkdir download\n",
        "\n",
        "!wget --no-check-certificate \\\n",
        "  https://dicodingacademy.blob.core.windows.net/picodiploma/ml_pemula_academy/rockpaperscissors.zip \\\n",
        "  -O /content/download/rockpaperscissors.zip"
      ],
      "execution_count": 1,
      "outputs": [
        {
          "output_type": "stream",
          "text": [
            "--2021-07-14 16:18:31--  https://dicodingacademy.blob.core.windows.net/picodiploma/ml_pemula_academy/rockpaperscissors.zip\n",
            "Resolving dicodingacademy.blob.core.windows.net (dicodingacademy.blob.core.windows.net)... 52.239.197.36\n",
            "Connecting to dicodingacademy.blob.core.windows.net (dicodingacademy.blob.core.windows.net)|52.239.197.36|:443... connected.\n",
            "HTTP request sent, awaiting response... 200 OK\n",
            "Length: 322873683 (308M) [application/zip]\n",
            "Saving to: ‘/content/download/rockpaperscissors.zip’\n",
            "\n",
            "/content/download/r 100%[===================>] 307.92M  1.93MB/s    in 78s     \n",
            "\n",
            "2021-07-14 16:19:49 (3.96 MB/s) - ‘/content/download/rockpaperscissors.zip’ saved [322873683/322873683]\n",
            "\n"
          ],
          "name": "stdout"
        }
      ]
    },
    {
      "cell_type": "markdown",
      "metadata": {
        "id": "m2nm2spjDD4B"
      },
      "source": [
        "### **Extract dataset**\n",
        "\n",
        "Extract file yang telah diunduh ke dalam folder \"dataset\"."
      ]
    },
    {
      "cell_type": "code",
      "metadata": {
        "id": "P8wmsb3gki1C"
      },
      "source": [
        "import zipfile\n",
        "dataset = 'download/rockpaperscissors.zip'\n",
        "extractor = zipfile.ZipFile(dataset, 'r')\n",
        "extractor.extractall('dataset')\n",
        "extractor.close()"
      ],
      "execution_count": 2,
      "outputs": []
    },
    {
      "cell_type": "markdown",
      "metadata": {
        "id": "G3ZcEA957-A_"
      },
      "source": [
        "### **Split dataset**\n",
        "\n",
        "Install library \"split-folders\" dan bagi dataset menjadi:\n",
        "\n",
        "**60% data training**\n",
        "\n",
        "**40% data validasi**"
      ]
    },
    {
      "cell_type": "code",
      "metadata": {
        "id": "5QjH6iWm6K6H",
        "colab": {
          "base_uri": "https://localhost:8080/"
        },
        "outputId": "b74d4f2d-1879-49c3-b998-9eb8ac18b6ab"
      },
      "source": [
        "!pip install split-folders\n",
        "!pip install split-folders tqdm"
      ],
      "execution_count": 3,
      "outputs": [
        {
          "output_type": "stream",
          "text": [
            "Collecting split-folders\n",
            "  Downloading https://files.pythonhosted.org/packages/b8/5f/3c2b2f7ea5e047c8cdc3bb00ae582c5438fcdbbedcc23b3cc1c2c7aae642/split_folders-0.4.3-py3-none-any.whl\n",
            "Installing collected packages: split-folders\n",
            "Successfully installed split-folders-0.4.3\n",
            "Requirement already satisfied: split-folders in /usr/local/lib/python3.7/dist-packages (0.4.3)\n",
            "Requirement already satisfied: tqdm in /usr/local/lib/python3.7/dist-packages (4.41.1)\n"
          ],
          "name": "stdout"
        }
      ]
    },
    {
      "cell_type": "code",
      "metadata": {
        "id": "7Yt4JscX2Msb",
        "colab": {
          "base_uri": "https://localhost:8080/"
        },
        "outputId": "27b263d6-bae8-4fff-ddd7-8e42d63318cc"
      },
      "source": [
        "import splitfolders\n",
        "\n",
        "splitfolders.ratio('dataset/rockpaperscissors/rps-cv-images', output ='dataset/data_model', seed=None, ratio=(.6,.4))"
      ],
      "execution_count": 4,
      "outputs": [
        {
          "output_type": "stream",
          "text": [
            "Copying files: 2188 files [00:00, 3395.39 files/s]\n"
          ],
          "name": "stderr"
        }
      ]
    },
    {
      "cell_type": "markdown",
      "metadata": {
        "id": "pIgSwS3wDVvH"
      },
      "source": [
        "### **Output dataset model**\n",
        "\n",
        "periksa hasil split dataset apakah sudah sesuai."
      ]
    },
    {
      "cell_type": "code",
      "metadata": {
        "id": "6WvBspF58j63",
        "colab": {
          "base_uri": "https://localhost:8080/"
        },
        "outputId": "1fc4db4d-20a2-4742-95c2-b0a3ec7b43df"
      },
      "source": [
        "dataset_dir = \"dataset/rockpaperscissors/rps-cv-images/\"\n",
        "train_dir =\"dataset/data_model/train/\"\n",
        "val_dir =\"dataset/data_model/val/\"\n",
        "\n",
        "import os\n",
        "\n",
        "model = ['paper', 'rock', 'scissors']\n",
        "\n",
        "for i in model:\n",
        "  print('\\nJumlah gambar '+ i, len(os.listdir(dataset_dir + i)))\n",
        "  print('Training   :', len(os.listdir(train_dir + i)))\n",
        "  print('Validation :', len(os.listdir(val_dir + i)))"
      ],
      "execution_count": 5,
      "outputs": [
        {
          "output_type": "stream",
          "text": [
            "\n",
            "Jumlah gambar paper 712\n",
            "Training   : 427\n",
            "Validation : 285\n",
            "\n",
            "Jumlah gambar rock 726\n",
            "Training   : 435\n",
            "Validation : 291\n",
            "\n",
            "Jumlah gambar scissors 750\n",
            "Training   : 450\n",
            "Validation : 300\n"
          ],
          "name": "stdout"
        }
      ]
    },
    {
      "cell_type": "markdown",
      "metadata": {
        "id": "UfNWzTRVFGzu"
      },
      "source": [
        "## **Pemodelan**"
      ]
    },
    {
      "cell_type": "markdown",
      "metadata": {
        "id": "h-FR8jUNFaIF"
      },
      "source": [
        "### **Augmentasi gambar**\n",
        "\n",
        "teknik untuk menciptakan data-data baru dari data yang telah ada."
      ]
    },
    {
      "cell_type": "code",
      "metadata": {
        "id": "d2xy3hXO-KfU"
      },
      "source": [
        "import tensorflow as tf\n",
        "from tensorflow.keras.preprocessing.image import ImageDataGenerator\n",
        "\n",
        "train_datagen = ImageDataGenerator(\n",
        "                    rescale=1./255,\n",
        "                    rotation_range=20,\n",
        "                    horizontal_flip=True,\n",
        "                    shear_range = 0.2,\n",
        "                    fill_mode = 'nearest')\n",
        " \n",
        "test_datagen = ImageDataGenerator(\n",
        "                    rescale=1./255,\n",
        "                    rotation_range=20,\n",
        "                    horizontal_flip=True,\n",
        "                    shear_range = 0.2,\n",
        "                    fill_mode = 'nearest')"
      ],
      "execution_count": 6,
      "outputs": []
    },
    {
      "cell_type": "markdown",
      "metadata": {
        "id": "8mXDaLS8KtcA"
      },
      "source": [
        "### **Image data generator**\n",
        "\n",
        "mempersiapkan data training yang akan dipelajari oleh model.\n",
        "\n",
        "struktur:\n",
        "*   dir: direktori dataset\n",
        "*   target_size: mengubah ukuran gambar (height, width)\n",
        "*   batch_size: ukuran batch data.\n",
        "*   class_mode: untuk klasifikasi lebih dari 2 kelas menggunakan 'categorical'\n",
        "\n"
      ]
    },
    {
      "cell_type": "code",
      "metadata": {
        "id": "aPizWj3YJpEY",
        "colab": {
          "base_uri": "https://localhost:8080/"
        },
        "outputId": "24db4bdc-cbcc-419e-90a7-31cc26118cba"
      },
      "source": [
        "train_generator = train_datagen.flow_from_directory(\n",
        "        train_dir,\n",
        "        target_size=(150, 150),\n",
        "        batch_size=4,\n",
        "        class_mode='categorical')\n",
        " \n",
        "val_generator = test_datagen.flow_from_directory(\n",
        "        val_dir,\n",
        "        target_size=(150, 150),\n",
        "        batch_size=4,\n",
        "        class_mode='categorical')"
      ],
      "execution_count": 7,
      "outputs": [
        {
          "output_type": "stream",
          "text": [
            "Found 1312 images belonging to 3 classes.\n",
            "Found 876 images belonging to 3 classes.\n"
          ],
          "name": "stdout"
        }
      ]
    },
    {
      "cell_type": "markdown",
      "metadata": {
        "id": "O9kO8umAKyp5"
      },
      "source": [
        "### **Model sequential**\n",
        "\n",
        "Membangun arsitektur CNN (Convolutional Neural Network)."
      ]
    },
    {
      "cell_type": "code",
      "metadata": {
        "id": "jR8RP0faK5wP",
        "colab": {
          "base_uri": "https://localhost:8080/"
        },
        "outputId": "799c5677-9e9a-44db-a598-51e8ea89dd43"
      },
      "source": [
        "model = tf.keras.models.Sequential([\n",
        "    tf.keras.layers.Conv2D(32, (3,3), activation='relu', input_shape=(150, 150, 3)),\n",
        "    tf.keras.layers.MaxPooling2D(2, 2),\n",
        "    tf.keras.layers.Conv2D(64, (3,3), activation='relu'),\n",
        "    tf.keras.layers.MaxPooling2D(2,2),\n",
        "    tf.keras.layers.Conv2D(128, (3,3), activation='relu'),\n",
        "    tf.keras.layers.MaxPooling2D(2,2),\n",
        "    tf.keras.layers.Conv2D(128, (3,3), activation='relu'),\n",
        "    tf.keras.layers.MaxPooling2D(2,2),\n",
        "    tf.keras.layers.Flatten(),\n",
        "    tf.keras.layers.Dense(512, activation='relu'),\n",
        "    tf.keras.layers.Dense(3, activation='softmax')\n",
        "])\n",
        "\n",
        "model.summary()"
      ],
      "execution_count": 8,
      "outputs": [
        {
          "output_type": "stream",
          "text": [
            "Model: \"sequential\"\n",
            "_________________________________________________________________\n",
            "Layer (type)                 Output Shape              Param #   \n",
            "=================================================================\n",
            "conv2d (Conv2D)              (None, 148, 148, 32)      896       \n",
            "_________________________________________________________________\n",
            "max_pooling2d (MaxPooling2D) (None, 74, 74, 32)        0         \n",
            "_________________________________________________________________\n",
            "conv2d_1 (Conv2D)            (None, 72, 72, 64)        18496     \n",
            "_________________________________________________________________\n",
            "max_pooling2d_1 (MaxPooling2 (None, 36, 36, 64)        0         \n",
            "_________________________________________________________________\n",
            "conv2d_2 (Conv2D)            (None, 34, 34, 128)       73856     \n",
            "_________________________________________________________________\n",
            "max_pooling2d_2 (MaxPooling2 (None, 17, 17, 128)       0         \n",
            "_________________________________________________________________\n",
            "conv2d_3 (Conv2D)            (None, 15, 15, 128)       147584    \n",
            "_________________________________________________________________\n",
            "max_pooling2d_3 (MaxPooling2 (None, 7, 7, 128)         0         \n",
            "_________________________________________________________________\n",
            "flatten (Flatten)            (None, 6272)              0         \n",
            "_________________________________________________________________\n",
            "dense (Dense)                (None, 512)               3211776   \n",
            "_________________________________________________________________\n",
            "dense_1 (Dense)              (None, 3)                 1539      \n",
            "=================================================================\n",
            "Total params: 3,454,147\n",
            "Trainable params: 3,454,147\n",
            "Non-trainable params: 0\n",
            "_________________________________________________________________\n"
          ],
          "name": "stdout"
        }
      ]
    },
    {
      "cell_type": "markdown",
      "metadata": {
        "id": "0McLzDNaQ42D"
      },
      "source": [
        "### **Callback function**\n",
        "\n",
        "Menghentikan training apabila akurasi sudah tercapai **(96%)**."
      ]
    },
    {
      "cell_type": "code",
      "metadata": {
        "id": "OXzS2wiPQhyL"
      },
      "source": [
        "class Callback(tf.keras.callbacks.Callback):\n",
        "  def on_epoch_end(self, epoch, logs={}):\n",
        "    if(logs.get('accuracy') > 0.96):\n",
        "      self.model.stop_training = True\n",
        "\n",
        "optimalAccuracy = Callback()"
      ],
      "execution_count": 9,
      "outputs": []
    },
    {
      "cell_type": "markdown",
      "metadata": {
        "id": "p3z8v5hngTIe"
      },
      "source": [
        "### **Compile objek model**\n",
        "\n",
        "menentukan **loss function** dan **optimizer**."
      ]
    },
    {
      "cell_type": "code",
      "metadata": {
        "id": "YUEIhrgrMIxY"
      },
      "source": [
        "model.compile(loss='categorical_crossentropy',\n",
        "              optimizer=tf.optimizers.Adam(),\n",
        "              metrics=['accuracy'])"
      ],
      "execution_count": 10,
      "outputs": []
    },
    {
      "cell_type": "markdown",
      "metadata": {
        "id": "GzpzfxKFQ9hO"
      },
      "source": [
        "### **Training model**\n",
        "\n",
        "Melakukan training model yang telah dibuat."
      ]
    },
    {
      "cell_type": "code",
      "metadata": {
        "id": "K0Vk2-7MMNY2",
        "colab": {
          "base_uri": "https://localhost:8080/"
        },
        "outputId": "dfa3dee1-cce3-4d27-fb3c-d798fff30bf9"
      },
      "source": [
        "model.fit(\n",
        "      train_generator,\n",
        "      epochs=100,\n",
        "      steps_per_epoch=35,\n",
        "      validation_data=val_generator,\n",
        "      validation_steps=5,\n",
        "      verbose=2,\n",
        "      callbacks=[optimalAccuracy])"
      ],
      "execution_count": 11,
      "outputs": [
        {
          "output_type": "stream",
          "text": [
            "Epoch 1/100\n",
            "35/35 - 9s - loss: 1.1212 - accuracy: 0.3500 - val_loss: 1.0813 - val_accuracy: 0.3500\n",
            "Epoch 2/100\n",
            "35/35 - 8s - loss: 1.0534 - accuracy: 0.4929 - val_loss: 1.0029 - val_accuracy: 0.4500\n",
            "Epoch 3/100\n",
            "35/35 - 8s - loss: 1.0623 - accuracy: 0.4214 - val_loss: 0.9756 - val_accuracy: 0.5500\n",
            "Epoch 4/100\n",
            "35/35 - 8s - loss: 0.9114 - accuracy: 0.6071 - val_loss: 0.9572 - val_accuracy: 0.6500\n",
            "Epoch 5/100\n",
            "35/35 - 8s - loss: 0.5513 - accuracy: 0.7786 - val_loss: 0.4733 - val_accuracy: 0.8500\n",
            "Epoch 6/100\n",
            "35/35 - 8s - loss: 0.4567 - accuracy: 0.8429 - val_loss: 0.6474 - val_accuracy: 0.6500\n",
            "Epoch 7/100\n",
            "35/35 - 8s - loss: 0.2873 - accuracy: 0.8786 - val_loss: 0.1639 - val_accuracy: 0.9500\n",
            "Epoch 8/100\n",
            "35/35 - 8s - loss: 0.3039 - accuracy: 0.8857 - val_loss: 0.4025 - val_accuracy: 0.8500\n",
            "Epoch 9/100\n",
            "35/35 - 8s - loss: 0.4408 - accuracy: 0.8429 - val_loss: 0.5821 - val_accuracy: 0.7000\n",
            "Epoch 10/100\n",
            "35/35 - 8s - loss: 0.3093 - accuracy: 0.9214 - val_loss: 0.5438 - val_accuracy: 0.7500\n",
            "Epoch 11/100\n",
            "35/35 - 8s - loss: 0.2745 - accuracy: 0.9000 - val_loss: 0.2312 - val_accuracy: 0.8000\n",
            "Epoch 12/100\n",
            "35/35 - 8s - loss: 0.1452 - accuracy: 0.9571 - val_loss: 0.0715 - val_accuracy: 0.9500\n",
            "Epoch 13/100\n",
            "35/35 - 8s - loss: 0.3192 - accuracy: 0.9000 - val_loss: 0.1233 - val_accuracy: 1.0000\n",
            "Epoch 14/100\n",
            "35/35 - 8s - loss: 0.2248 - accuracy: 0.9214 - val_loss: 0.2595 - val_accuracy: 0.9000\n",
            "Epoch 15/100\n",
            "35/35 - 8s - loss: 0.2240 - accuracy: 0.8857 - val_loss: 0.3890 - val_accuracy: 0.9000\n",
            "Epoch 16/100\n",
            "35/35 - 8s - loss: 0.2601 - accuracy: 0.9143 - val_loss: 0.0588 - val_accuracy: 1.0000\n",
            "Epoch 17/100\n",
            "35/35 - 8s - loss: 0.2715 - accuracy: 0.8857 - val_loss: 0.1963 - val_accuracy: 0.9000\n",
            "Epoch 18/100\n",
            "35/35 - 8s - loss: 0.1647 - accuracy: 0.9357 - val_loss: 0.4928 - val_accuracy: 0.8500\n",
            "Epoch 19/100\n",
            "35/35 - 8s - loss: 0.1769 - accuracy: 0.9571 - val_loss: 0.6065 - val_accuracy: 0.8500\n",
            "Epoch 20/100\n",
            "35/35 - 8s - loss: 0.1652 - accuracy: 0.9357 - val_loss: 0.1419 - val_accuracy: 0.9500\n",
            "Epoch 21/100\n",
            "35/35 - 8s - loss: 0.0962 - accuracy: 0.9571 - val_loss: 0.2119 - val_accuracy: 0.9000\n",
            "Epoch 22/100\n",
            "35/35 - 8s - loss: 0.1138 - accuracy: 0.9500 - val_loss: 0.8246 - val_accuracy: 0.8000\n",
            "Epoch 23/100\n",
            "35/35 - 8s - loss: 0.1974 - accuracy: 0.9643 - val_loss: 0.0941 - val_accuracy: 0.9500\n"
          ],
          "name": "stdout"
        },
        {
          "output_type": "execute_result",
          "data": {
            "text/plain": [
              "<tensorflow.python.keras.callbacks.History at 0x7fa1d48fee10>"
            ]
          },
          "metadata": {
            "tags": []
          },
          "execution_count": 11
        }
      ]
    },
    {
      "cell_type": "markdown",
      "metadata": {
        "id": "Ow89UvkIRI2C"
      },
      "source": [
        "## **Testing**"
      ]
    },
    {
      "cell_type": "markdown",
      "metadata": {
        "id": "J_7e2Naeazka"
      },
      "source": [
        "### **Upload image**\n",
        "\n",
        "Jika mendapat warning:\n",
        "\n",
        "\"Upload widget is only available when the cell has been executed in the current browser session. Please rerun this cell to enable.\"\n",
        "\n",
        "*   Go to chrome://settings/content/cookies\n",
        "*   Turn off -> Block third-party cookies"
      ]
    },
    {
      "cell_type": "code",
      "metadata": {
        "colab": {
          "resources": {
            "http://localhost:8080/nbextensions/google.colab/files.js": {
              "data": "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",
              "ok": true,
              "headers": [
                [
                  "content-type",
                  "application/javascript"
                ]
              ],
              "status": 200,
              "status_text": ""
            }
          },
          "base_uri": "https://localhost:8080/",
          "height": 72
        },
        "id": "ESMBiXcMRQDf",
        "outputId": "89147d93-1fd5-4c53-c6fc-5a2d9975cbf3"
      },
      "source": [
        "from google.colab import files\n",
        "\n",
        "uploaded = files.upload()"
      ],
      "execution_count": 40,
      "outputs": [
        {
          "output_type": "display_data",
          "data": {
            "text/html": [
              "\n",
              "     <input type=\"file\" id=\"files-2f816a57-d033-41d2-a225-b65f54fa68b9\" name=\"files[]\" multiple disabled\n",
              "        style=\"border:none\" />\n",
              "     <output id=\"result-2f816a57-d033-41d2-a225-b65f54fa68b9\">\n",
              "      Upload widget is only available when the cell has been executed in the\n",
              "      current browser session. Please rerun this cell to enable.\n",
              "      </output>\n",
              "      <script src=\"/nbextensions/google.colab/files.js\"></script> "
            ],
            "text/plain": [
              "<IPython.core.display.HTML object>"
            ]
          },
          "metadata": {
            "tags": []
          }
        },
        {
          "output_type": "stream",
          "text": [
            "Saving 7cNxwgrraQGeA1LA.png to 7cNxwgrraQGeA1LA.png\n"
          ],
          "name": "stdout"
        }
      ]
    },
    {
      "cell_type": "markdown",
      "metadata": {
        "id": "XIeqmXr2bl2V"
      },
      "source": [
        "### **Hasil testing**"
      ]
    },
    {
      "cell_type": "code",
      "metadata": {
        "id": "ZYVljGAyRXZq",
        "colab": {
          "base_uri": "https://localhost:8080/",
          "height": 303
        },
        "outputId": "885fa994-e410-4c97-9121-208261ffd738"
      },
      "source": [
        "from keras.preprocessing import image\n",
        "import matplotlib.pyplot as plt\n",
        "import numpy as np\n",
        "\n",
        "def check_result(result):\n",
        "  if result == 0:\n",
        "    return 'Paper'\n",
        "  elif result == 1:\n",
        "    return 'Rock'\n",
        "  elif result == 2:\n",
        "    return 'Scissors'\n",
        "\n",
        "def check_prediction():\n",
        "  for fn in uploaded.keys():\n",
        "    path = fn\n",
        "    img = image.load_img(path, target_size=(150,150))\n",
        "    imgplot = plt.imshow(img)\n",
        "    x = image.img_to_array(img)\n",
        "    x = np.expand_dims(x, axis=0)\n",
        "\n",
        "    images = np.vstack([x])\n",
        "    result = model.predict(images, batch_size=10)\n",
        "\n",
        "    print(fn)\n",
        "    max_value = max(result[0])\n",
        "    index_value = result[0].tolist().index(max_value)\n",
        "    print(check_result(index_value))\n",
        "\n",
        "check_prediction()"
      ],
      "execution_count": 41,
      "outputs": [
        {
          "output_type": "stream",
          "text": [
            "7cNxwgrraQGeA1LA.png\n",
            "Rock\n"
          ],
          "name": "stdout"
        },
        {
          "output_type": "display_data",
          "data": {
            "image/png": "[encoded data removed]",
            "text/plain": [
              "<Figure size 432x288 with 1 Axes>"
            ]
          },
          "metadata": {
            "tags": [],
            "needs_background": "light"
          }
        }
      ]
    }
  ]
}